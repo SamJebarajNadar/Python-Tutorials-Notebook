{
 "cells": [
  {
   "cell_type": "markdown",
   "id": "fabulous-postcard",
   "metadata": {},
   "source": [
    "# List functions "
   ]
  },
  {
   "cell_type": "markdown",
   "id": "acting-immune",
   "metadata": {},
   "source": [
    "## Insert"
   ]
  },
  {
   "cell_type": "code",
   "execution_count": 17,
   "id": "digital-subject",
   "metadata": {},
   "outputs": [
    {
     "data": {
      "text/plain": [
       "[2, 2, 3]"
      ]
     },
     "execution_count": 17,
     "metadata": {},
     "output_type": "execute_result"
    }
   ],
   "source": [
    "list1=[]\n",
    "list1.insert(0,2)\n",
    "list1.insert(1,2)\n",
    "list1.insert(2,3)\n",
    "list1"
   ]
  },
  {
   "cell_type": "markdown",
   "id": "stock-defeat",
   "metadata": {},
   "source": [
    "#### Dynamic insert "
   ]
  },
  {
   "cell_type": "code",
   "execution_count": 1,
   "id": "judicial-trademark",
   "metadata": {},
   "outputs": [
    {
     "name": "stdout",
     "output_type": "stream",
     "text": [
      "Enter no. of elements3\n",
      "Enter the position:3\n",
      "Enter elements you want to insert:1\n",
      "Enter the position:2\n",
      "Enter elements you want to insert:3\n",
      "Enter the position:1\n",
      "Enter elements you want to insert:2\n",
      "[1, 2, 3]\n"
     ]
    }
   ],
   "source": [
    "list1=[]\n",
    "n=int(input(\"Enter no. of elements\"))\n",
    "for times in range(n):\n",
    "    pos=int(input(\"Enter the position:\"))\n",
    "    ele=int(input(\"Enter elements you want to insert:\"))    \n",
    "    r=list1.insert(pos,ele)\n",
    "print(list1)"
   ]
  },
  {
   "cell_type": "markdown",
   "id": "annual-execution",
   "metadata": {},
   "source": [
    "## Append"
   ]
  },
  {
   "cell_type": "code",
   "execution_count": 29,
   "id": "three-version",
   "metadata": {},
   "outputs": [
    {
     "data": {
      "text/plain": [
       "[1, 2]"
      ]
     },
     "execution_count": 29,
     "metadata": {},
     "output_type": "execute_result"
    }
   ],
   "source": [
    "list1=[1]\n",
    "list1.append(2)\n",
    "list1"
   ]
  },
  {
   "cell_type": "markdown",
   "id": "angry-conditions",
   "metadata": {},
   "source": [
    "## Extend \n",
    "Extend is the append but for multiple element or even list"
   ]
  },
  {
   "cell_type": "code",
   "execution_count": 32,
   "id": "coated-windsor",
   "metadata": {},
   "outputs": [
    {
     "data": {
      "text/plain": [
       "[4, 5, 6, 1, 2, 3]"
      ]
     },
     "execution_count": 32,
     "metadata": {},
     "output_type": "execute_result"
    }
   ],
   "source": [
    "list1=[4,5,6]\n",
    "list1.extend([1,2,3])\n",
    "list1"
   ]
  },
  {
   "cell_type": "markdown",
   "id": "enhanced-party",
   "metadata": {},
   "source": [
    "## Reverse"
   ]
  },
  {
   "cell_type": "code",
   "execution_count": 34,
   "id": "digital-garage",
   "metadata": {},
   "outputs": [],
   "source": [
    "list1=[4,5,6]\n",
    "list1.extend([1,2,3])\n",
    "list1.reverse()"
   ]
  },
  {
   "cell_type": "markdown",
   "id": "assured-ordering",
   "metadata": {},
   "source": [
    "## Remove"
   ]
  },
  {
   "cell_type": "code",
   "execution_count": 8,
   "id": "moved-aspect",
   "metadata": {},
   "outputs": [
    {
     "data": {
      "text/plain": [
       "[4, 6]"
      ]
     },
     "execution_count": 8,
     "metadata": {},
     "output_type": "execute_result"
    }
   ],
   "source": [
    "list1=[4,5,6]\n",
    "list1.remove(5)\n",
    "list1"
   ]
  },
  {
   "cell_type": "markdown",
   "id": "horizontal-roberts",
   "metadata": {},
   "source": [
    "## Sort"
   ]
  },
  {
   "cell_type": "code",
   "execution_count": 10,
   "id": "structural-painting",
   "metadata": {},
   "outputs": [
    {
     "data": {
      "text/plain": [
       "[1, 2, 3, 4, 5, 6]"
      ]
     },
     "execution_count": 10,
     "metadata": {},
     "output_type": "execute_result"
    }
   ],
   "source": [
    "list1=[4, 5, 6, 1, 2, 3]\n",
    "list1.sort()\n",
    "list1"
   ]
  },
  {
   "cell_type": "markdown",
   "id": "yellow-stephen",
   "metadata": {},
   "source": [
    "## Clear"
   ]
  },
  {
   "cell_type": "code",
   "execution_count": 11,
   "id": "invisible-gentleman",
   "metadata": {},
   "outputs": [
    {
     "data": {
      "text/plain": [
       "[]"
      ]
     },
     "execution_count": 11,
     "metadata": {},
     "output_type": "execute_result"
    }
   ],
   "source": [
    "list1=[4, 5, 6, 1, 2, 3]\n",
    "list1.clear()\n",
    "list1"
   ]
  },
  {
   "cell_type": "markdown",
   "id": "central-appendix",
   "metadata": {},
   "source": [
    "## Index"
   ]
  },
  {
   "cell_type": "code",
   "execution_count": 15,
   "id": "verbal-decline",
   "metadata": {},
   "outputs": [
    {
     "data": {
      "text/plain": [
       "4"
      ]
     },
     "execution_count": 15,
     "metadata": {},
     "output_type": "execute_result"
    }
   ],
   "source": [
    "list1=[4, 5, 6, 1, 2, 3]\n",
    "list1.index(2)"
   ]
  },
  {
   "cell_type": "markdown",
   "id": "played-economics",
   "metadata": {},
   "source": [
    "## Copy"
   ]
  },
  {
   "cell_type": "code",
   "execution_count": 33,
   "id": "failing-development",
   "metadata": {},
   "outputs": [
    {
     "data": {
      "text/plain": [
       "[4, 5, 6, 1, 2, 3, 0]"
      ]
     },
     "execution_count": 33,
     "metadata": {},
     "output_type": "execute_result"
    }
   ],
   "source": [
    "dummy=[]\n",
    "list1=[4, 5, 6, 1, 2, 3,0]\n",
    "dummy=list1.copy()\n",
    "dummy"
   ]
  },
  {
   "cell_type": "markdown",
   "id": "warming-forth",
   "metadata": {},
   "source": [
    "## Pop"
   ]
  },
  {
   "cell_type": "code",
   "execution_count": 38,
   "id": "amino-custody",
   "metadata": {},
   "outputs": [
    {
     "data": {
      "text/plain": [
       "[6, 1, 2, 3, 0]"
      ]
     },
     "execution_count": 38,
     "metadata": {},
     "output_type": "execute_result"
    }
   ],
   "source": [
    "list1.pop(0)\n",
    "list1"
   ]
  },
  {
   "cell_type": "markdown",
   "id": "criminal-characteristic",
   "metadata": {},
   "source": [
    "## Count"
   ]
  },
  {
   "cell_type": "code",
   "execution_count": 44,
   "id": "female-characteristic",
   "metadata": {},
   "outputs": [
    {
     "data": {
      "text/plain": [
       "4"
      ]
     },
     "execution_count": 44,
     "metadata": {},
     "output_type": "execute_result"
    }
   ],
   "source": [
    "list1=[1,2,3,4,4,4,4,3]\n",
    "n=list1.count(4)\n",
    "n"
   ]
  },
  {
   "cell_type": "markdown",
   "id": "stylish-stanley",
   "metadata": {},
   "source": [
    "# Dictionary"
   ]
  },
  {
   "cell_type": "markdown",
   "id": "norman-album",
   "metadata": {},
   "source": [
    "## Copy"
   ]
  },
  {
   "cell_type": "code",
   "execution_count": 46,
   "id": "promotional-arena",
   "metadata": {},
   "outputs": [
    {
     "name": "stdout",
     "output_type": "stream",
     "text": [
      "{'brand': 'Ford', 'model': 'Mustang', 'year': 1964}\n"
     ]
    }
   ],
   "source": [
    "car = {\n",
    "  \"brand\": \"Ford\",\n",
    "  \"model\": \"Mustang\",\n",
    "  \"year\": 1964\n",
    "}\n",
    "\n",
    "dummy1=car.copy()\n",
    "print(dummy1)"
   ]
  },
  {
   "cell_type": "markdown",
   "id": "closing-darwin",
   "metadata": {},
   "source": [
    "## Clear"
   ]
  },
  {
   "cell_type": "markdown",
   "id": "built-detection",
   "metadata": {},
   "source": [
    "## Fromkeys\n",
    "This actually creates dictionary where keys have same values"
   ]
  },
  {
   "cell_type": "code",
   "execution_count": 50,
   "id": "surgical-interaction",
   "metadata": {},
   "outputs": [
    {
     "data": {
      "text/plain": [
       "{'zeon': 0, 'kevin': 0, 'ab': 0}"
      ]
     },
     "execution_count": 50,
     "metadata": {},
     "output_type": "execute_result"
    }
   ],
   "source": [
    "key_set=('zeon','kevin','ab')\n",
    "values=0\n",
    "dict1=dict.fromkeys(key_set,values)\n",
    "dict1"
   ]
  },
  {
   "cell_type": "markdown",
   "id": "departmental-appendix",
   "metadata": {},
   "source": [
    "## Get"
   ]
  },
  {
   "cell_type": "code",
   "execution_count": 57,
   "id": "structured-hygiene",
   "metadata": {},
   "outputs": [
    {
     "data": {
      "text/plain": [
       "'Ford'"
      ]
     },
     "execution_count": 57,
     "metadata": {},
     "output_type": "execute_result"
    }
   ],
   "source": [
    "car = {\n",
    "  \"brand\": \"Ford\",\n",
    "  \"model\": \"Mustang\",\n",
    "  \"year\": 1964\n",
    "}\n",
    "car.get('brand')"
   ]
  },
  {
   "cell_type": "markdown",
   "id": "fancy-cable",
   "metadata": {},
   "source": [
    "## Items\n",
    "Returns a list containing a tuple for each key value pair, key and values in form [(key,values)] i.e list of tuples of (keys,values)"
   ]
  },
  {
   "cell_type": "code",
   "execution_count": 53,
   "id": "differential-radical",
   "metadata": {},
   "outputs": [
    {
     "name": "stdout",
     "output_type": "stream",
     "text": [
      "dict_items([('brand', 'Ford'), ('model', 'Mustang'), ('year', 1964)])\n"
     ]
    }
   ],
   "source": [
    "x = car.items()\n",
    "\n",
    "print(x)"
   ]
  },
  {
   "cell_type": "markdown",
   "id": "promotional-redhead",
   "metadata": {},
   "source": [
    "## Keys"
   ]
  },
  {
   "cell_type": "code",
   "execution_count": 59,
   "id": "grateful-lawsuit",
   "metadata": {},
   "outputs": [
    {
     "name": "stdout",
     "output_type": "stream",
     "text": [
      "dict_keys(['brand', 'model', 'year'])\n"
     ]
    }
   ],
   "source": [
    "key=car.keys()\n",
    "print(key)"
   ]
  },
  {
   "cell_type": "markdown",
   "id": "collectible-assignment",
   "metadata": {},
   "source": [
    "## Pop\n",
    "1.For pop we will first update with new values<br>\n",
    "2.We can have the main dictionary without change by executing below command"
   ]
  },
  {
   "cell_type": "code",
   "execution_count": 76,
   "id": "steady-experiment",
   "metadata": {},
   "outputs": [
    {
     "data": {
      "text/plain": [
       "{'brand': 'Ford',\n",
       " 'model': 'Mustang',\n",
       " 'year': 1964,\n",
       " 'day': 'weekend',\n",
       " 'cost': 'rupees',\n",
       " 'date': 12}"
      ]
     },
     "execution_count": 76,
     "metadata": {},
     "output_type": "execute_result"
    }
   ],
   "source": [
    "car.update({'cost':'rupees','day':'weekend','date':12})\n",
    "car\n"
   ]
  },
  {
   "cell_type": "code",
   "execution_count": 74,
   "id": "sophisticated-columbia",
   "metadata": {},
   "outputs": [
    {
     "data": {
      "text/plain": [
       "{'brand': 'Ford',\n",
       " 'model': 'Mustang',\n",
       " 'year': 1964,\n",
       " 'day': 'weekend',\n",
       " 'date': 12}"
      ]
     },
     "execution_count": 74,
     "metadata": {},
     "output_type": "execute_result"
    }
   ],
   "source": [
    "delete=car.pop('cost')\n",
    "car"
   ]
  },
  {
   "cell_type": "markdown",
   "id": "acquired-relay",
   "metadata": {},
   "source": [
    "## PopItems\n",
    "1.This Pops the last elements "
   ]
  },
  {
   "cell_type": "code",
   "execution_count": 77,
   "id": "invisible-extra",
   "metadata": {},
   "outputs": [
    {
     "data": {
      "text/plain": [
       "{'brand': 'Ford',\n",
       " 'model': 'Mustang',\n",
       " 'year': 1964,\n",
       " 'day': 'weekend',\n",
       " 'cost': 'rupees'}"
      ]
     },
     "execution_count": 77,
     "metadata": {},
     "output_type": "execute_result"
    }
   ],
   "source": [
    "delete_last=car.popitem()\n",
    "car"
   ]
  },
  {
   "cell_type": "markdown",
   "id": "comprehensive-gates",
   "metadata": {},
   "source": [
    "## Set Default\n",
    "This sets default value if the values is not provided for the key"
   ]
  },
  {
   "cell_type": "code",
   "execution_count": 3,
   "id": "superb-german",
   "metadata": {
    "ExecuteTime": {
     "end_time": "2021-04-16T13:09:55.437174Z",
     "start_time": "2021-04-16T13:09:55.421172Z"
    }
   },
   "outputs": [],
   "source": [
    "car = {\n",
    "  \"brand\": \"Ford\",\n",
    "  \"model\":'default value will not come as there is value present here', \n",
    "  \"year\": 1964\n",
    "}"
   ]
  },
  {
   "cell_type": "code",
   "execution_count": 88,
   "id": "divided-limitation",
   "metadata": {},
   "outputs": [
    {
     "name": "stdout",
     "output_type": "stream",
     "text": [
      "default value will not come as there is value present here\n"
     ]
    }
   ],
   "source": [
    "x = car.setdefault(\"model\", \"Bronco\")\n",
    "\n",
    "print(x)"
   ]
  },
  {
   "cell_type": "markdown",
   "id": "statistical-september",
   "metadata": {},
   "source": [
    "## Update"
   ]
  },
  {
   "cell_type": "code",
   "execution_count": 4,
   "id": "proper-treatment",
   "metadata": {
    "ExecuteTime": {
     "end_time": "2021-04-16T13:09:57.563937Z",
     "start_time": "2021-04-16T13:09:57.515933Z"
    }
   },
   "outputs": [
    {
     "data": {
      "text/plain": [
       "{'brand': 'Ford',\n",
       " 'model': 'default value will not come as there is value present here',\n",
       " 'year': 1964,\n",
       " 'cost': 'rupees',\n",
       " 'day': 'weekend',\n",
       " 'date': 12}"
      ]
     },
     "execution_count": 4,
     "metadata": {},
     "output_type": "execute_result"
    }
   ],
   "source": [
    "car.update({'cost':'rupees','day':'weekend','date':12})\n",
    "car"
   ]
  },
  {
   "cell_type": "markdown",
   "id": "nonprofit-imperial",
   "metadata": {},
   "source": [
    "## Values"
   ]
  },
  {
   "cell_type": "code",
   "execution_count": 63,
   "id": "injured-beauty",
   "metadata": {},
   "outputs": [
    {
     "data": {
      "text/plain": [
       "dict_values(['Ford', 'Mustang', 1964, 'rupees'])"
      ]
     },
     "execution_count": 63,
     "metadata": {},
     "output_type": "execute_result"
    }
   ],
   "source": [
    "x=car.values()\n",
    "x"
   ]
  },
  {
   "cell_type": "markdown",
   "id": "respiratory-education",
   "metadata": {},
   "source": [
    "# Tuples"
   ]
  },
  {
   "cell_type": "code",
   "execution_count": 12,
   "id": "pleased-stereo",
   "metadata": {
    "ExecuteTime": {
     "end_time": "2021-04-16T13:14:24.726300Z",
     "start_time": "2021-04-16T13:14:24.718387Z"
    }
   },
   "outputs": [],
   "source": [
    "tuple1=('sam','zeon',1,2,3,'sam')\n"
   ]
  },
  {
   "cell_type": "markdown",
   "id": "united-operator",
   "metadata": {},
   "source": [
    "## Count\n",
    "Count is actually used to find the number of times a element is repeated in the tuple"
   ]
  },
  {
   "cell_type": "code",
   "execution_count": 14,
   "id": "alpha-optimum",
   "metadata": {
    "ExecuteTime": {
     "end_time": "2021-04-16T13:14:30.622789Z",
     "start_time": "2021-04-16T13:14:30.606785Z"
    }
   },
   "outputs": [
    {
     "data": {
      "text/plain": [
       "2"
      ]
     },
     "execution_count": 14,
     "metadata": {},
     "output_type": "execute_result"
    }
   ],
   "source": [
    "tuple1.count('sam')"
   ]
  },
  {
   "cell_type": "markdown",
   "id": "hindu-scanner",
   "metadata": {},
   "source": [
    "## Index"
   ]
  },
  {
   "cell_type": "code",
   "execution_count": 16,
   "id": "together-poetry",
   "metadata": {
    "ExecuteTime": {
     "end_time": "2021-04-16T13:15:24.714950Z",
     "start_time": "2021-04-16T13:15:24.698949Z"
    }
   },
   "outputs": [
    {
     "data": {
      "text/plain": [
       "0"
      ]
     },
     "execution_count": 16,
     "metadata": {},
     "output_type": "execute_result"
    }
   ],
   "source": [
    "tuple1.index('sam')"
   ]
  },
  {
   "cell_type": "markdown",
   "id": "extended-rebel",
   "metadata": {},
   "source": [
    "# Sets"
   ]
  },
  {
   "cell_type": "markdown",
   "id": "architectural-backing",
   "metadata": {},
   "source": [
    "## Add \n",
    "Set arranges the elements in alphabetical order"
   ]
  },
  {
   "cell_type": "code",
   "execution_count": 2,
   "id": "ranking-aurora",
   "metadata": {
    "ExecuteTime": {
     "end_time": "2021-04-17T16:08:14.418791Z",
     "start_time": "2021-04-17T16:08:14.383740Z"
    }
   },
   "outputs": [
    {
     "data": {
      "text/plain": [
       "{'apple', 'motorola', 'realme', 'sam'}"
      ]
     },
     "execution_count": 2,
     "metadata": {},
     "output_type": "execute_result"
    }
   ],
   "source": [
    "phone={'sam','apple','motorola'}\n",
    "phone.add('realme')\n",
    "phone"
   ]
  },
  {
   "cell_type": "markdown",
   "id": "stopped-dairy",
   "metadata": {},
   "source": [
    "## Clear"
   ]
  },
  {
   "cell_type": "code",
   "execution_count": 7,
   "id": "lesser-bible",
   "metadata": {
    "ExecuteTime": {
     "end_time": "2021-04-17T16:13:51.248398Z",
     "start_time": "2021-04-17T16:13:51.233377Z"
    }
   },
   "outputs": [
    {
     "data": {
      "text/plain": [
       "{4}"
      ]
     },
     "execution_count": 7,
     "metadata": {},
     "output_type": "execute_result"
    }
   ],
   "source": [
    "clearset={1,2,3}\n",
    "clearset.clear()\n",
    "clearset.add(4)\n",
    "clearset"
   ]
  },
  {
   "cell_type": "markdown",
   "id": "graduate-gossip",
   "metadata": {},
   "source": [
    "## Copy"
   ]
  },
  {
   "cell_type": "markdown",
   "id": "smaller-orange",
   "metadata": {},
   "source": [
    "### Normal copy"
   ]
  },
  {
   "cell_type": "code",
   "execution_count": 9,
   "id": "therapeutic-figure",
   "metadata": {
    "ExecuteTime": {
     "end_time": "2021-04-17T16:18:30.768219Z",
     "start_time": "2021-04-17T16:18:30.753197Z"
    }
   },
   "outputs": [
    {
     "data": {
      "text/plain": [
       "{'apple', 'motorola', 'sam'}"
      ]
     },
     "execution_count": 9,
     "metadata": {},
     "output_type": "execute_result"
    }
   ],
   "source": [
    "phone={'sam','apple','motorola'}\n",
    "set1=phone.copy()\n",
    "phone"
   ]
  },
  {
   "cell_type": "markdown",
   "id": "incident-estate",
   "metadata": {},
   "source": [
    "### Copy using ="
   ]
  },
  {
   "cell_type": "code",
   "execution_count": 8,
   "id": "junior-adelaide",
   "metadata": {
    "ExecuteTime": {
     "end_time": "2021-04-17T16:16:13.641156Z",
     "start_time": "2021-04-17T16:16:13.627137Z"
    }
   },
   "outputs": [
    {
     "data": {
      "text/plain": [
       "{'apple', 'motorola', 'sam'}"
      ]
     },
     "execution_count": 8,
     "metadata": {},
     "output_type": "execute_result"
    }
   ],
   "source": [
    "phone={'sam','apple','motorola'}\n",
    "set1=phone\n",
    "set1"
   ]
  },
  {
   "cell_type": "markdown",
   "id": "noble-empty",
   "metadata": {},
   "source": [
    "## Difference"
   ]
  },
  {
   "cell_type": "markdown",
   "id": "pretty-state",
   "metadata": {},
   "source": [
    "### 1_on_2_difference"
   ]
  },
  {
   "cell_type": "code",
   "execution_count": 16,
   "id": "exempt-manual",
   "metadata": {
    "ExecuteTime": {
     "end_time": "2021-04-17T16:23:51.269035Z",
     "start_time": "2021-04-17T16:23:51.254013Z"
    }
   },
   "outputs": [
    {
     "data": {
      "text/plain": [
       "{'apple', 'motorola'}"
      ]
     },
     "execution_count": 16,
     "metadata": {},
     "output_type": "execute_result"
    }
   ],
   "source": [
    "phone1={'sam','apple','motorola'}\n",
    "phone2={'sam','Phone2Exclusive'}\n",
    "_1_on_2_difference = phone1.difference(phone2)\n",
    "_1_on_2_difference\n",
    "\n"
   ]
  },
  {
   "cell_type": "markdown",
   "id": "respiratory-bankruptcy",
   "metadata": {},
   "source": [
    "### 2_on_1_difference"
   ]
  },
  {
   "cell_type": "code",
   "execution_count": 17,
   "id": "varying-adapter",
   "metadata": {
    "ExecuteTime": {
     "end_time": "2021-04-17T16:23:57.638690Z",
     "start_time": "2021-04-17T16:23:57.624671Z"
    }
   },
   "outputs": [
    {
     "data": {
      "text/plain": [
       "{'Phone2Exclusive'}"
      ]
     },
     "execution_count": 17,
     "metadata": {},
     "output_type": "execute_result"
    }
   ],
   "source": [
    "_2_on_1_difference = phone2.difference(phone1)\n",
    "_2_on_1_difference \n"
   ]
  },
  {
   "cell_type": "markdown",
   "id": "thousand-modification",
   "metadata": {},
   "source": [
    "## Difference Update"
   ]
  },
  {
   "cell_type": "markdown",
   "id": "positive-delaware",
   "metadata": {
    "ExecuteTime": {
     "end_time": "2021-04-17T16:38:08.393951Z",
     "start_time": "2021-04-17T16:38:08.382933Z"
    }
   },
   "source": [
    "https://stackoverflow.com/questions/27439192/python-whats-the-difference-between-set-difference-and-set-difference-update"
   ]
  },
  {
   "cell_type": "markdown",
   "id": "appreciated-planet",
   "metadata": {},
   "source": [
    "### 1_on_2_difference"
   ]
  },
  {
   "cell_type": "code",
   "execution_count": 18,
   "id": "sound-saturday",
   "metadata": {
    "ExecuteTime": {
     "end_time": "2021-04-17T16:27:44.712774Z",
     "start_time": "2021-04-17T16:27:44.691740Z"
    }
   },
   "outputs": [
    {
     "name": "stdout",
     "output_type": "stream",
     "text": [
      "{'banana', 'cherry'}\n"
     ]
    }
   ],
   "source": [
    "x = {\"apple\", \"banana\", \"cherry\"}\n",
    "y = {\"google\", \"microsoft\", \"apple\"}\n",
    "\n",
    "x.difference_update(y)\n",
    "\n",
    "print(x)"
   ]
  },
  {
   "cell_type": "markdown",
   "id": "limiting-margin",
   "metadata": {},
   "source": [
    "### 2_on_1_difference"
   ]
  },
  {
   "cell_type": "code",
   "execution_count": 22,
   "id": "comparative-intellectual",
   "metadata": {
    "ExecuteTime": {
     "end_time": "2021-04-17T16:34:54.823366Z",
     "start_time": "2021-04-17T16:34:54.811350Z"
    }
   },
   "outputs": [
    {
     "data": {
      "text/plain": [
       "{'apple', 'google', 'microsoft'}"
      ]
     },
     "execution_count": 22,
     "metadata": {},
     "output_type": "execute_result"
    }
   ],
   "source": [
    "y.difference_update(x)\n",
    "y"
   ]
  },
  {
   "cell_type": "markdown",
   "id": "referenced-entry",
   "metadata": {},
   "source": [
    "## Delete or Discard"
   ]
  },
  {
   "cell_type": "code",
   "execution_count": 24,
   "id": "artificial-carbon",
   "metadata": {
    "ExecuteTime": {
     "end_time": "2021-04-17T16:42:10.147629Z",
     "start_time": "2021-04-17T16:42:10.137612Z"
    }
   },
   "outputs": [
    {
     "name": "stdout",
     "output_type": "stream",
     "text": [
      "{'apple', 'cherry'}\n"
     ]
    }
   ],
   "source": [
    "fruits = {\"apple\", \"banana\", \"cherry\"}\n",
    "\n",
    "fruits.discard(\"banana\")\n",
    "\n",
    "print(fruits)"
   ]
  },
  {
   "cell_type": "markdown",
   "id": "capable-decrease",
   "metadata": {},
   "source": [
    "## Intersection \n",
    "This gives us the common element between two set"
   ]
  },
  {
   "cell_type": "code",
   "execution_count": 30,
   "id": "coated-worship",
   "metadata": {
    "ExecuteTime": {
     "end_time": "2021-04-17T17:27:12.833140Z",
     "start_time": "2021-04-17T17:27:12.820122Z"
    }
   },
   "outputs": [
    {
     "name": "stdout",
     "output_type": "stream",
     "text": [
      "{'google'}\n"
     ]
    }
   ],
   "source": [
    "x = {\"apple\", \"banana\", \"cherry\",'google'}\n",
    "y = {\"google\", \"microsoft\", \"apple\"}\n",
    "z={'google',}\n",
    "IntersectionOfSets = set.intersection(x,y,z)\n",
    "\n",
    "print(z)"
   ]
  },
  {
   "cell_type": "markdown",
   "id": "experimental-sunday",
   "metadata": {},
   "source": [
    "## Disjoint\n",
    "If any common elements are present or not , but the value returned is a boolean"
   ]
  },
  {
   "cell_type": "code",
   "execution_count": 32,
   "id": "illegal-shower",
   "metadata": {
    "ExecuteTime": {
     "end_time": "2021-04-17T17:33:45.771102Z",
     "start_time": "2021-04-17T17:33:45.759082Z"
    }
   },
   "outputs": [
    {
     "name": "stdout",
     "output_type": "stream",
     "text": [
      "False\n"
     ]
    }
   ],
   "source": [
    "x = {\"apple\", \"banana\", \"cherry\",'google'}\n",
    "y = {\"google\", \"microsoft\", \"facebook\"}\n",
    "\n",
    "z = x.isdisjoint(y)\n",
    "\n",
    "print(z)"
   ]
  },
  {
   "cell_type": "markdown",
   "id": "impossible-portrait",
   "metadata": {},
   "source": [
    "## Subset"
   ]
  },
  {
   "cell_type": "code",
   "execution_count": 33,
   "id": "champion-charles",
   "metadata": {
    "ExecuteTime": {
     "end_time": "2021-04-17T17:35:53.128477Z",
     "start_time": "2021-04-17T17:35:53.114459Z"
    }
   },
   "outputs": [
    {
     "name": "stdout",
     "output_type": "stream",
     "text": [
      "True\n"
     ]
    }
   ],
   "source": [
    "x = {\"a\", \"b\", \"c\"}\n",
    "y = {\"f\", \"e\", \"d\", \"c\", \"b\", \"a\"}\n",
    "\n",
    "z = x.issubset(y)\n",
    "\n",
    "print(z)"
   ]
  },
  {
   "cell_type": "markdown",
   "id": "fewer-distributor",
   "metadata": {},
   "source": [
    "## Superset"
   ]
  },
  {
   "cell_type": "code",
   "execution_count": 36,
   "id": "plain-video",
   "metadata": {
    "ExecuteTime": {
     "end_time": "2021-04-17T17:42:06.789179Z",
     "start_time": "2021-04-17T17:42:06.775160Z"
    }
   },
   "outputs": [
    {
     "name": "stdout",
     "output_type": "stream",
     "text": [
      "True\n"
     ]
    }
   ],
   "source": [
    "x = {\"f\", \"e\", \"d\", \"c\", \"b\", \"a\"}\n",
    "y = {\"a\", \"b\", \"c\"}\n",
    "\n",
    "z = x.issuperset(y)\n",
    "# z = y.issuperset(x)\n",
    "\n",
    "print(z)"
   ]
  },
  {
   "cell_type": "markdown",
   "id": "endangered-reporter",
   "metadata": {},
   "source": [
    "## Pop\n",
    "First Element is popped"
   ]
  },
  {
   "cell_type": "code",
   "execution_count": 37,
   "id": "skilled-daughter",
   "metadata": {
    "ExecuteTime": {
     "end_time": "2021-04-17T17:42:24.212812Z",
     "start_time": "2021-04-17T17:42:24.202798Z"
    }
   },
   "outputs": [
    {
     "name": "stdout",
     "output_type": "stream",
     "text": [
      "{'banana', 'cherry'}\n"
     ]
    }
   ],
   "source": [
    "fruits = {\"apple\", \"banana\", \"cherry\"}\n",
    "\n",
    "fruits.pop()\n",
    "\n",
    "print(fruits)"
   ]
  },
  {
   "cell_type": "markdown",
   "id": "multiple-module",
   "metadata": {},
   "source": [
    "## Remove\n",
    "Unlike discard remove gives error when the element doesn't exist in the set"
   ]
  },
  {
   "cell_type": "code",
   "execution_count": 38,
   "id": "weighted-diameter",
   "metadata": {
    "ExecuteTime": {
     "end_time": "2021-04-17T17:44:08.102787Z",
     "start_time": "2021-04-17T17:44:08.090769Z"
    }
   },
   "outputs": [
    {
     "data": {
      "text/plain": [
       "{'apple', 'cherry'}"
      ]
     },
     "execution_count": 38,
     "metadata": {},
     "output_type": "execute_result"
    }
   ],
   "source": [
    "fruits = {\"apple\", \"banana\", \"cherry\"}\n",
    "\n",
    "fruits.remove(\"banana\")\n",
    "fruits"
   ]
  },
  {
   "cell_type": "markdown",
   "id": "relevant-responsibility",
   "metadata": {},
   "source": [
    "## Symmetric_difference \n",
    "This gives us set where elements are not common to both "
   ]
  },
  {
   "cell_type": "code",
   "execution_count": 39,
   "id": "romantic-wesley",
   "metadata": {
    "ExecuteTime": {
     "end_time": "2021-04-17T17:45:54.233245Z",
     "start_time": "2021-04-17T17:45:54.220230Z"
    }
   },
   "outputs": [
    {
     "name": "stdout",
     "output_type": "stream",
     "text": [
      "{'microsoft', 'banana', 'cherry', 'google'}\n"
     ]
    }
   ],
   "source": [
    "x = {\"apple\", \"banana\", \"cherry\"}\n",
    "y = {\"google\", \"microsoft\", \"apple\"}\n",
    "\n",
    "z = x.symmetric_difference(y)\n",
    "\n",
    "print(z)"
   ]
  },
  {
   "cell_type": "markdown",
   "id": "bridal-activation",
   "metadata": {},
   "source": [
    "## Symmetric_difference Update"
   ]
  },
  {
   "cell_type": "code",
   "execution_count": 40,
   "id": "contemporary-flesh",
   "metadata": {
    "ExecuteTime": {
     "end_time": "2021-04-17T17:48:22.125145Z",
     "start_time": "2021-04-17T17:48:22.113127Z"
    }
   },
   "outputs": [
    {
     "name": "stdout",
     "output_type": "stream",
     "text": [
      "{'banana', 'cherry', 'google', 'microsoft'}\n"
     ]
    }
   ],
   "source": [
    "x = {\"apple\", \"banana\", \"cherry\"}\n",
    "y = {\"google\", \"microsoft\", \"apple\"}\n",
    "\n",
    "x.symmetric_difference_update(y)\n",
    "\n",
    "print(x)"
   ]
  },
  {
   "cell_type": "markdown",
   "id": "corresponding-season",
   "metadata": {},
   "source": [
    "## Union"
   ]
  },
  {
   "cell_type": "code",
   "execution_count": 41,
   "id": "expensive-weather",
   "metadata": {
    "ExecuteTime": {
     "end_time": "2021-04-17T17:49:14.133703Z",
     "start_time": "2021-04-17T17:49:14.121688Z"
    }
   },
   "outputs": [
    {
     "name": "stdout",
     "output_type": "stream",
     "text": [
      "{'apple', 'microsoft', 'banana', 'cherry', 'google'}\n"
     ]
    }
   ],
   "source": [
    "x = {\"apple\", \"banana\", \"cherry\"}\n",
    "y = {\"google\", \"microsoft\", \"apple\"}\n",
    "\n",
    "z = x.union(y)\n",
    "\n",
    "print(z)"
   ]
  },
  {
   "cell_type": "markdown",
   "id": "senior-talent",
   "metadata": {},
   "source": [
    "## Update"
   ]
  },
  {
   "cell_type": "code",
   "execution_count": null,
   "id": "stylish-moderator",
   "metadata": {},
   "outputs": [],
   "source": [
    "x = {\"apple\", \"banana\", \"cherry\"}\n",
    "y = {\"google\", \"microsoft\", \"apple\"}\n",
    "\n",
    "x.update(y)\n",
    "\n",
    "print(x)"
   ]
  }
 ],
 "metadata": {
  "kernelspec": {
   "display_name": "Python 3",
   "language": "python",
   "name": "python3"
  },
  "language_info": {
   "codemirror_mode": {
    "name": "ipython",
    "version": 3
   },
   "file_extension": ".py",
   "mimetype": "text/x-python",
   "name": "python",
   "nbconvert_exporter": "python",
   "pygments_lexer": "ipython3",
   "version": "3.7.2"
  },
  "toc": {
   "base_numbering": 1,
   "nav_menu": {},
   "number_sections": true,
   "sideBar": true,
   "skip_h1_title": false,
   "title_cell": "Table of Contents",
   "title_sidebar": "Contents",
   "toc_cell": false,
   "toc_position": {
    "height": "calc(100% - 180px)",
    "left": "10px",
    "top": "150px",
    "width": "292.882px"
   },
   "toc_section_display": true,
   "toc_window_display": true
  }
 },
 "nbformat": 4,
 "nbformat_minor": 5
}
